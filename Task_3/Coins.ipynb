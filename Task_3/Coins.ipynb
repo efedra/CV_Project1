{
 "cells": [
  {
   "cell_type": "code",
   "execution_count": 113,
   "id": "71360155",
   "metadata": {},
   "outputs": [],
   "source": [
    "import numpy as np\n",
    "import cv2\n",
    "from matplotlib import pyplot as plt"
   ]
  },
  {
   "cell_type": "code",
   "execution_count": 114,
   "id": "ef6b2e73",
   "metadata": {},
   "outputs": [],
   "source": [
    "image = cv2.imread(\"Coins.png\")\n",
    "gray = cv2.cvtColor(image, cv2.COLOR_BGR2GRAY)\n",
    "blurred = cv2.GaussianBlur(gray, (9, 9), 0)\n",
    "#cv2.imshow(\"Coins\",blurred)\n",
    "#cv2.waitKey(0)"
   ]
  },
  {
   "cell_type": "code",
   "execution_count": 115,
   "id": "f26f076f",
   "metadata": {},
   "outputs": [],
   "source": [
    "edged = cv2.Canny(blurred, 30, 150)"
   ]
  },
  {
   "cell_type": "code",
   "execution_count": 116,
   "id": "09dbe579",
   "metadata": {},
   "outputs": [
    {
     "name": "stdout",
     "output_type": "stream",
     "text": [
      "отсортированные площади: [1078.5, 1104.5, 1136.5, 1408.5, 2795.5, 2825.0, 2860.5, 2865.0] \n",
      " - и их индексы: [6 3 1 4 5 7 2 0]\n",
      "Второй класс начинается с индекса 4 \n",
      " - и имеет значение: 2795.5\n"
     ]
    }
   ],
   "source": [
    "(cnts, _) = cv2.findContours(edged.copy(), \n",
    "                             cv2.RETR_EXTERNAL, \n",
    "                             cv2 .CHAIN_APPROX_SIMPLE\n",
    ")\n",
    "\n",
    "cnt_area= []\n",
    "\n",
    "for cnt in cnts:\n",
    "    area = cv2.contourArea(cnt)\n",
    "    cnt_area.append(area)\n",
    "    \n",
    "sorted_area = sorted(cnt_area)\n",
    "indices = np.array(cnt_area).argsort()\n",
    "\n",
    "print(f\"отсортированные площади: {sorted_area} \\n - и их индексы: {indices}\" )\n",
    "border_val_id = np.argmax(np.diff(sorted_area))+1\n",
    "border_value = sorted_area[border_val_id]\n",
    "print(f\"Второй класс начинается с индекса {border_val_id} \\n - и имеет значение: {border_value}\")"
   ]
  },
  {
   "cell_type": "code",
   "execution_count": 117,
   "id": "db6d2c21",
   "metadata": {},
   "outputs": [],
   "source": [
    "small = indices[:border_val_id]\n",
    "big = indices[border_val_id:]\n",
    "\n",
    "\n",
    "coins = image.copy()\n",
    "\n",
    "for i in indices:\n",
    "    \n",
    "    if i in small:\n",
    "        cv2.drawContours(coins, cnts, i, (0,255,0), 3)\n",
    "    else:\n",
    "        cv2.drawContours(coins, cnts, i, (255,0,0), 3)\n",
    "        "
   ]
  },
  {
   "cell_type": "code",
   "execution_count": 118,
   "id": "7afd8088",
   "metadata": {},
   "outputs": [
    {
     "data": {
      "text/plain": [
       "-1"
      ]
     },
     "execution_count": 118,
     "metadata": {},
     "output_type": "execute_result"
    }
   ],
   "source": [
    "cv2.imshow(\"Coins\", np.hstack([image,coins]))\n",
    "cv2.waitKey(0)"
   ]
  },
  {
   "cell_type": "code",
   "execution_count": 119,
   "id": "45cf4cd0",
   "metadata": {},
   "outputs": [
    {
     "name": "stdout",
     "output_type": "stream",
     "text": [
      " Общее количество монет: 8 \n",
      " Боших монет: 4 \n",
      " аленьких монет: 4\n"
     ]
    }
   ],
   "source": [
    "print( f\" Общее количество монет: {len(cnts)} \\n Боших монет: {len(small)} \\n аленьких монет: {len(big)}\")"
   ]
  }
 ],
 "metadata": {
  "kernelspec": {
   "display_name": "Python 3 (ipykernel)",
   "language": "python",
   "name": "python3"
  },
  "language_info": {
   "codemirror_mode": {
    "name": "ipython",
    "version": 3
   },
   "file_extension": ".py",
   "mimetype": "text/x-python",
   "name": "python",
   "nbconvert_exporter": "python",
   "pygments_lexer": "ipython3",
   "version": "3.8.11"
  }
 },
 "nbformat": 4,
 "nbformat_minor": 5
}
